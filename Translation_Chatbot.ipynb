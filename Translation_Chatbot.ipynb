{
  "cells": [
    {
      "cell_type": "markdown",
      "metadata": {
        "id": "view-in-github",
        "colab_type": "text"
      },
      "source": [
        "<a href=\"https://colab.research.google.com/github/adhi-002/Translation_chatBot/blob/main/Translation_Chatbot.ipynb\" target=\"_parent\"><img src=\"https://colab.research.google.com/assets/colab-badge.svg\" alt=\"Open In Colab\"/></a>"
      ]
    },
    {
      "cell_type": "markdown",
      "metadata": {
        "id": "7Rz4usNFaeRX"
      },
      "source": [
        "# English-to-French Translation Chatbot\n",
        "This chatbot uses Hugging Face's pre-trained translation model to convert English text to French with a typing effect for interactivity."
      ]
    },
    {
      "cell_type": "code",
      "execution_count": null,
      "metadata": {
        "id": "_ImwCg9FaeRZ"
      },
      "outputs": [],
      "source": [
        "# Install required libraries\n",
        "!pip install transformers\n",
        "!pip install torch\n",
        "!pip install ipywidgets"
      ]
    },
    {
      "cell_type": "code",
      "execution_count": null,
      "metadata": {
        "id": "B8gLjUxYaeRa"
      },
      "outputs": [],
      "source": [
        "# Import necessary modules\n",
        "from transformers import pipeline\n",
        "import time\n",
        "from IPython.display import display\n",
        "import ipywidgets as widgets"
      ]
    },
    {
      "cell_type": "code",
      "execution_count": null,
      "metadata": {
        "id": "V7C_p_fwaeRa"
      },
      "outputs": [],
      "source": [
        "# Load translation model from Hugging Face\n",
        "translator = pipeline(\"translation_en_to_fr\", model=\"Helsinki-NLP/opus-mt-en-fr\")"
      ]
    },
    {
      "cell_type": "code",
      "execution_count": null,
      "metadata": {
        "id": "p3cail29aeRa"
      },
      "outputs": [],
      "source": [
        "# Function for typing effect\n",
        "def typing_effect(text):\n",
        "    for char in text:\n",
        "        print(char, end='', flush=True)\n",
        "        time.sleep(0.05)\n",
        "    print()"
      ]
    },
    {
      "cell_type": "code",
      "execution_count": null,
      "metadata": {
        "id": "wnNm3SbdaeRa"
      },
      "outputs": [],
      "source": [
        "# Chatbot loop\n",
        "while True:\n",
        "    user_input = input(\"You: \")\n",
        "    if user_input.lower() in [\"exit\", \"quit\"]:\n",
        "        print(\"Chatbot: Au revoir !\")\n",
        "        break\n",
        "    result = translator(user_input)[0]['translation_text']\n",
        "    print(\"Chatbot:\", end=' ')\n",
        "    typing_effect(result)"
      ]
    }
  ],
  "metadata": {
    "kernelspec": {
      "display_name": "Python 3",
      "language": "python",
      "name": "python3"
    },
    "language_info": {
      "name": "python",
      "version": "3.9"
    },
    "colab": {
      "provenance": [],
      "include_colab_link": true
    }
  },
  "nbformat": 4,
  "nbformat_minor": 0
}